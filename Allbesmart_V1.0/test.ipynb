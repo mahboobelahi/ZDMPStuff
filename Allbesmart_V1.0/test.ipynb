{
 "cells": [
  {
   "cell_type": "code",
   "execution_count": null,
   "metadata": {},
   "outputs": [],
   "source": [
    "measurementKeys =  [        \n",
    "                    \"CellID\",\"line_frequency\",\"rms_current_c\",\"rms_voltage_c\",\n",
    "                    \"power_factor_c\",\"power_factorlow_c\",\n",
    "                    \"active_power_c\",\"apparent_power_c\",\"reactive_power_c\",\n",
    "                    \"active_energy_c\",\"reactive_energy_c\",\"apparent_energy_c\"\n",
    "                    ]\n",
    "CS= [[False,False],[True,True],[False,True],[False,True],\n",
    "    [False,True],[False,True],[False,True],[False,True],\n",
    "    [False,True],[True,True],[True,True],[True,True]]\n",
    "ConveyorEvents = ['Z1_Changed','Z2_Changed','Z3_Changed','Z4_Changed']"
   ]
  },
  {
   "cell_type": "code",
   "execution_count": null,
   "metadata": {},
   "outputs": [],
   "source": [
    "for i in ConveyorEvents[:3]:\n",
    "    print(i)\n"
   ]
  },
  {
   "cell_type": "code",
   "execution_count": 4,
   "metadata": {},
   "outputs": [
    {
     "name": "stdout",
     "output_type": "stream",
     "text": [
      "1\n",
      "2\n",
      "3\n",
      "4\n",
      "5\n",
      "6\n",
      "7\n",
      "8\n",
      "9\n",
      "10\n",
      "11\n",
      "12\n"
     ]
    }
   ],
   "source": [
    "for i in range(1,13):\n",
    "    print(i)"
   ]
  },
  {
   "cell_type": "code",
   "execution_count": null,
   "metadata": {},
   "outputs": [],
   "source": []
  }
 ],
 "metadata": {
  "kernelspec": {
   "display_name": "Python 3.8.10 ('env': venv)",
   "language": "python",
   "name": "python3"
  },
  "language_info": {
   "codemirror_mode": {
    "name": "ipython",
    "version": 3
   },
   "file_extension": ".py",
   "mimetype": "text/x-python",
   "name": "python",
   "nbconvert_exporter": "python",
   "pygments_lexer": "ipython3",
   "version": "3.8.10"
  },
  "orig_nbformat": 4,
  "vscode": {
   "interpreter": {
    "hash": "e6061290b9e6043fd97fb36690c119f981fcc424316cd3c6c358c4fc9b408604"
   }
  }
 },
 "nbformat": 4,
 "nbformat_minor": 2
}
