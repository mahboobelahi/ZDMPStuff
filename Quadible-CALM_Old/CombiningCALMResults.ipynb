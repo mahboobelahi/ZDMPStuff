{
 "cells": [
  {
   "cell_type": "code",
   "execution_count": 1,
   "metadata": {},
   "outputs": [],
   "source": [
    "import pandas as pd"
   ]
  },
  {
   "cell_type": "code",
   "execution_count": 40,
   "metadata": {},
   "outputs": [
    {
     "name": "stderr",
     "output_type": "stream",
     "text": [
      "C:\\Users\\elahi\\AppData\\Local\\Temp\\ipykernel_31344\\1150005340.py:8: SettingWithCopyWarning: \n",
      "A value is trying to be set on a copy of a slice from a DataFrame\n",
      "\n",
      "See the caveats in the documentation: https://pandas.pydata.org/pandas-docs/stable/user_guide/indexing.html#returning-a-view-versus-a-copy\n",
      "  no_duplicates_df_E.drop(['id','timestamp'],axis=1,inplace=True)\n"
     ]
    }
   ],
   "source": [
    "df_A= pd.read_csv('./CALM_Auth.csv')\n",
    "df_E= pd.read_csv('./CALM_emotion.csv')\n",
    "#df_E.info()\n",
    "# df['timestamp'] = df['timestamp'].astype('|S')\n",
    "# df.info()\n",
    "no_duplicates_df_A = df_A.drop_duplicates(subset=['timestamp'], keep=\"first\", inplace=False)  \n",
    "no_duplicates_df_E = df_E.drop_duplicates(subset=['timestamp'], keep=\"first\", inplace=False)  \n",
    "no_duplicates_df_E.drop(['id','timestamp'],axis=1,inplace=True)\n",
    "df_CALM = pd.concat([no_duplicates_df_A.reset_index(drop=True), no_duplicates_df_E.reset_index(drop=True)], axis=1)\n",
    "df_CALM=df_CALM[['id','Authenticated','Description','DetectedFaces','DistanceScore','StressLevel','Description','timestamp']]\n",
    "#df_CALM.drop('timestamp',axis=1,inplace=True)\n",
    "df_CALM.to_csv('CALM_Results.csv',index=False)\n",
    "#df.to_csv('out.csv',index=False)"
   ]
  },
  {
   "cell_type": "code",
   "execution_count": null,
   "metadata": {},
   "outputs": [],
   "source": []
  }
 ],
 "metadata": {
  "kernelspec": {
   "display_name": "Python 3.8.10 ('env': venv)",
   "language": "python",
   "name": "python3"
  },
  "language_info": {
   "codemirror_mode": {
    "name": "ipython",
    "version": 3
   },
   "file_extension": ".py",
   "mimetype": "text/x-python",
   "name": "python",
   "nbconvert_exporter": "python",
   "pygments_lexer": "ipython3",
   "version": "3.8.10"
  },
  "orig_nbformat": 4,
  "vscode": {
   "interpreter": {
    "hash": "2fe682157fb9fbdc2d281994f7ea65b67a3b9cfb4d7e9aae0f525c1bb50293be"
   }
  }
 },
 "nbformat": 4,
 "nbformat_minor": 2
}
